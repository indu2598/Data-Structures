{
 "cells": [
  {
   "cell_type": "markdown",
   "metadata": {},
   "source": [
    "# What is Data Structure?"
   ]
  },
  {
   "cell_type": "markdown",
   "metadata": {},
   "source": [
    "Data Struture is a conceptual thing , we can apply the algorithm in different lanaguage by different ways. \n",
    "DS are the building blocks or raw material for any software program. These are nothing but the contanier for storing data in a specific memory layout.\n",
    "\n",
    "Arrays -> List -> native array or dynamic array \n",
    "Hash Table -> Dictionary-> hashmap or linkedhashmap\n",
    "linked list -> not available -> linkedlist"
   ]
  },
  {
   "cell_type": "markdown",
   "metadata": {},
   "source": [
    "# What is big O Natation?"
   ]
  },
  {
   "cell_type": "markdown",
   "metadata": {},
   "source": [
    "Big o natation measure how  running the time and space requirement grows as input size grows. Big O specificly measure the time and space requirement in worse case scenario."
   ]
  },
  {
   "cell_type": "markdown",
   "metadata": {},
   "source": [
    "Runing time taken by program is directly propertional to the number of iterations.\n",
    "\n",
    "t = a*n+b\n",
    "\n",
    "Rules applied for finding the BIG O notation\n",
    "1. keep the fastest grwoing term\n",
    "    a*n\n",
    "2. Drop Constant\n",
    "    n\n",
    "    \n",
    "Cases :\n",
    "    1. If time grows linearly then big O of program is O(n).\n",
    "    2. if time grows is almost constant and increasing as the number of the input increase then big O notation is O(1)"
   ]
  },
  {
   "cell_type": "markdown",
   "metadata": {},
   "source": [
    "# Space Complexity"
   ]
  },
  {
   "cell_type": "code",
   "execution_count": null,
   "metadata": {},
   "outputs": [],
   "source": [
    "With O(n):\n",
    "    \n",
    "numbers = [4,9,15,21,34,57,68,91]\n",
    "for i in range(len([49,15,21,34,57,68,91])):\n",
    "    if numbers[i] == 68:\n",
    "        print(i)\n"
   ]
  },
  {
   "cell_type": "markdown",
   "metadata": {},
   "source": [
    "# Binary Search"
   ]
  },
  {
   "cell_type": "markdown",
   "metadata": {},
   "source": [
    "def BinarySearch(arr,low,high,x):\n",
    "    mid = (low+high)//2\n",
    "    if arr[mid]==x:\n",
    "        return mid\n",
    "    elif arr[mid]<x:\n",
    "        return BinarySearch(arr,mid,high,x)\n",
    "    else:\n",
    "        return BinarySearch(arr,low,mid,x)\n",
    "    \n",
    "numbers = [4,9,15,21,34,57,68,91]        \n",
    "print(BinarySearch(numbers,0,len(numbers),(68)))"
   ]
  },
  {
   "cell_type": "markdown",
   "metadata": {},
   "source": [
    "# BigO Notation"
   ]
  },
  {
   "cell_type": "markdown",
   "metadata": {},
   "source": [
    "BigO Notation for binary serach is O(log n)\n",
    "\n",
    "BigO Notation for array [5,6,11,22,32,34,67,78]\n",
    "\n",
    "O(log n) -> log2 8 -> log2 2 power 3 -> 3 log2 2 -> 3(1) -> 3"
   ]
  },
  {
   "cell_type": "code",
   "execution_count": null,
   "metadata": {},
   "outputs": [],
   "source": []
  },
  {
   "cell_type": "code",
   "execution_count": 10,
   "metadata": {},
   "outputs": [
    {
     "ename": "SyntaxError",
     "evalue": "invalid syntax (<ipython-input-10-b8363e5416fa>, line 13)",
     "output_type": "error",
     "traceback": [
      "\u001b[1;36m  File \u001b[1;32m\"<ipython-input-10-b8363e5416fa>\"\u001b[1;36m, line \u001b[1;32m13\u001b[0m\n\u001b[1;33m    return root root = \"#\"\u001b[0m\n\u001b[1;37m                   ^\u001b[0m\n\u001b[1;31mSyntaxError\u001b[0m\u001b[1;31m:\u001b[0m invalid syntax\n"
     ]
    }
   ],
   "source": [
    "def ArrayChallenge(strArr): \n",
    "    class Node: \n",
    "        def __init__(self,data): \n",
    "            self.data = data \n",
    "            self.left = \"#\" \n",
    "            self.right = \"#\" \n",
    "        def binarytree(arr, root,i , n): \n",
    "            if i < n : \n",
    "                temp = Node(arr[i]) \n",
    "                root = temp \n",
    "                root.left = binarytree(arr,root.left,2*i+1,n) \n",
    "                root.right = binarytree(arr,root.left,2*i+2,n) \n",
    "                return root root = \"#\" \n",
    "            binarytree(strArr, root,i , n) \n",
    "            # code goes here \n",
    "            return strArr \n",
    "        # keep this function call he  re \n",
    "        print(ArrayChallenge(input()))"
   ]
  },
  {
   "cell_type": "code",
   "execution_count": 11,
   "metadata": {},
   "outputs": [
    {
     "ename": "SyntaxError",
     "evalue": "invalid syntax (<ipython-input-11-d35f4760cf9a>, line 1)",
     "output_type": "error",
     "traceback": [
      "\u001b[1;36m  File \u001b[1;32m\"<ipython-input-11-d35f4760cf9a>\"\u001b[1;36m, line \u001b[1;32m1\u001b[0m\n\u001b[1;33m    def ArrayChallenge(strArr): def checksymmentric(root): q = [] q.append(root) q.append(root) leftNode = 0 rightNode = 0 while len(q): leftNode = q[0] q.pop(0) rightNode = q[0] q.pop(0) if leftNode.data != rightNode.data: return \"false\" if (leftNode.left and rightNode.right): q.append(leftNode.left) q.append(rightNode.right) elif(leftNode.left !=rightNode.right): return \"false\" if (leftNode.right and rightNode.left): q.append(leftNode.right) q.append(rightNode.left) elif(leftNode.right != rightNode.left): return \"false\" return \"true\" class Node: def __init__(self,data): self.data = data self.left = None self.right = None def binarytree(arr, root,i, n): if i < n : temp = Node(arr[i]) root = temp root.left = binarytree(arr,root.left,2*i+1,n) root.right = binarytree(arr,root.left,2*i+2,n) return root root = \"#\" ans = binarytree(strArr, root,0 , len(strArr)) a = checksymmentric(ans) # code goes here return a # keep this function call here print(ArrayChallenge(input()))\u001b[0m\n\u001b[1;37m                                  ^\u001b[0m\n\u001b[1;31mSyntaxError\u001b[0m\u001b[1;31m:\u001b[0m invalid syntax\n"
     ]
    }
   ],
   "source": [
    "def ArrayChallenge(strArr): \n",
    "    def checksymmentric(root): \n",
    "        q = [] \n",
    "        q.append(root) \n",
    "        q.append(root) \n",
    "        leftNode = 0 \n",
    "        rightNode = 0 \n",
    "        while len(q): \n",
    "            leftNode = q[0] \n",
    "            q.pop(0) \n",
    "            rightNode = q[0] \n",
    "            q.pop(0) \n",
    "            if leftNode.data != rightNode.data: \n",
    "                return \"false\" \n",
    "            if (leftNode.left and rightNode.right): \n",
    "                q.append(leftNode.left) \n",
    "                q.append(rightNode.right) \n",
    "            elif(leftNode.left !=rightNode.right): \n",
    "                return \"false\" \n",
    "            if (leftNode.right and rightNode.left): \n",
    "                q.append(leftNode.right) q.append(rightNode.left) \n",
    "            elif(leftNode.right != rightNode.left): \n",
    "                return \"false\" \n",
    "            return \"true\" \n",
    "    class Node: \n",
    "        def __init__(self,data): \n",
    "            self.data = data \n",
    "            self.left = None \n",
    "            self.right = None \n",
    "    def binarytree(arr, root,i, n): \n",
    "        if i < n : \n",
    "            temp = Node(arr[i]) \n",
    "            root = temp \n",
    "            root.left = binarytree(arr,root.left,2*i+1,n) \n",
    "            root.right = binarytree(arr,root.left,2*i+2,n) \n",
    "            return root \n",
    "    root = \"#\" \n",
    "    ans = binarytree(strArr, root,0 , len(strArr)) \n",
    "    a = checksymmentric(ans) \n",
    "    # code goes here \n",
    "    return a \n",
    "            # keep this function call here \n",
    "print(ArrayChallenge(input()))"
   ]
  },
  {
   "cell_type": "code",
   "execution_count": 15,
   "metadata": {},
   "outputs": [
    {
     "name": "stdout",
     "output_type": "stream",
     "text": [
      "[3, 5, 6, 7, 88, 10, 45, 40]\n",
      "[3, 5, 6, 7, 10, 88, 45, 40]\n"
     ]
    }
   ],
   "source": [
    "a = [3,5,6,7,88,45,40]\n",
    "ind = 5\n",
    "item = [10]\n",
    "print(a[:ind]+item+a[ind:])\n",
    "a.insert(4,10)\n",
    "print(a)"
   ]
  },
  {
   "cell_type": "markdown",
   "metadata": {},
   "source": [
    "# Order of Complexity of array and linked list"
   ]
  },
  {
   "cell_type": "markdown",
   "metadata": {},
   "source": [
    "Order of Complexity of Different type of operation on two Data Structure\n",
    "\n",
    "operation              Array                        Linked Lis\n",
    "1. indexing               O(1)                         O(n)\n",
    "2. insertion/deletion at the begining O(n)(dynamic allocation)  O(1)\n",
    "3. insertion deletion at the end O(1)+amortized         O(n)\n",
    "4. insert at middle        O(n)                         O(n)"
   ]
  },
  {
   "cell_type": "markdown",
   "metadata": {},
   "source": [
    "# Linked List"
   ]
  },
  {
   "cell_type": "code",
   "execution_count": 29,
   "metadata": {},
   "outputs": [
    {
     "name": "stdout",
     "output_type": "stream",
     "text": [
      "\n",
      "\n",
      "4-->3-->78-->7-->8-->12-->556-->77-->\n",
      "\n",
      "4-->3-->67-->7-->8-->12-->556-->77-->8\n"
     ]
    }
   ],
   "source": [
    "class Node:\n",
    "    def __init__(self,data= None, next = None):\n",
    "        self.data = data\n",
    "        self.next = next\n",
    "        \n",
    "class LinkedList:\n",
    "    def __init__(self):\n",
    "        self.head = None\n",
    "    \n",
    "    def insert_at_beg(self,num):\n",
    "        node = Node(num,self.head)\n",
    "        self.head= node\n",
    "        \n",
    "        \n",
    "    def insert_at_end(self,num):\n",
    "        if self.head is None:\n",
    "            self.insert_at_beg(num)\n",
    "            return\n",
    "        node = Node(num,None)\n",
    "        itr = self.head\n",
    "        while itr.next:\n",
    "            itr = itr.next\n",
    "        itr.next = node\n",
    "        return\n",
    "    \n",
    "    def insert_values(self,arr):\n",
    "        for i in arr:\n",
    "            self.insert_at_end(i)\n",
    "        return\n",
    "    \n",
    "    def length_ll(self):\n",
    "        if self.head is None:\n",
    "            return 0\n",
    "        else:\n",
    "            count = 0\n",
    "            itr = self.head\n",
    "            while itr:\n",
    "                count+=1\n",
    "                itr = itr.next\n",
    "        return count\n",
    "    def insert_at(self,ind,num):\n",
    "        if ind<0 and ind> self.length_ll():\n",
    "            print(\"Index is incorrect!\")\n",
    "            \n",
    "        if ind == 0:\n",
    "            self.insert_at_beg(num)\n",
    "            return\n",
    "        else:\n",
    "            itr = self.head\n",
    "            count = 0\n",
    "            while itr.next:\n",
    "                if count == ind-1:\n",
    "                    itr.next = Node(num,itr.next)\n",
    "                    return\n",
    "                count+=1\n",
    "                itr = itr.next\n",
    "                \n",
    "    def remove_from(self,ind):\n",
    "        if ind <0 and ind> self.length_ll():\n",
    "            print(\"Incorrect index\")\n",
    "        if ind == 0:\n",
    "            self.head = self.head.next\n",
    "        else:\n",
    "            count = 0\n",
    "            itr = self.head\n",
    "            while itr.next:\n",
    "                if count == ind-1:\n",
    "                    itr.next = itr.next.next\n",
    "                    return\n",
    "                count+=1\n",
    "                itr = itr.next\n",
    "    def insert_after(self,ia, ii):\n",
    "        if self.head is None:\n",
    "            print(\"Wrong item to put after\")\n",
    "            return\n",
    "        itr= self.head\n",
    "        while itr:\n",
    "            if itr.data == ia:\n",
    "                itr.next = Node(ii,itr.next)\n",
    "                return\n",
    "            itr = itr.next\n",
    "            \n",
    "    def remove_by_value(self,num):\n",
    "        if self.head is None:\n",
    "            print(\"emtry linked list\")\n",
    "            return\n",
    "        itr = self.head\n",
    "        if itr.data == num:\n",
    "            self.remove_from(0)\n",
    "            return\n",
    "        while itr:\n",
    "            if itr.next.data == num:\n",
    "                itr.next = itr.next.next\n",
    "                return\n",
    "            itr = itr.next\n",
    "        print(\"Not Found\")\n",
    "            \n",
    "    def print(self):\n",
    "        if self.head is None:\n",
    "            print(\"Linked List is empty!\")\n",
    "        itr = self.head\n",
    "        while itr:\n",
    "            print(itr.data,end=\"-->\")\n",
    "            itr = itr.next\n",
    "            \n",
    "\n",
    "ll = LinkedList()\n",
    "ll.insert_at_beg(3)\n",
    "ll.insert_at_beg(4)\n",
    "ll.insert_at_end(78)\n",
    "ll.insert_values([7,8,12,556,77])\n",
    "print(\"\\n\")\n",
    "ll.print()\n",
    "print(\"\\n\")\n",
    "ll.insert_at(4,89776)\n",
    "ll.remove_from(4)\n",
    "ll.insert_after(78,67)\n",
    "ll.remove_by_value(78)\n",
    "ll.print()\n",
    "print(ll.length_ll())"
   ]
  },
  {
   "cell_type": "markdown",
   "metadata": {},
   "source": [
    "# Doubly Linked Lst "
   ]
  },
  {
   "cell_type": "code",
   "execution_count": 47,
   "metadata": {},
   "outputs": [
    {
     "name": "stdout",
     "output_type": "stream",
     "text": [
      "90-->67-->5-->4-->56-->900-->897-->\n",
      "\n",
      "897-->900-->56-->4-->5-->67-->90-->"
     ]
    }
   ],
   "source": [
    "class Node:\n",
    "    def __init__(self,data=None, prev= None,next = None):\n",
    "        self.data = data\n",
    "        self.prev = prev\n",
    "        self.next = next\n",
    "        \n",
    "class DoublyLinkedList:\n",
    "    def __init__(self):\n",
    "        self.head = None\n",
    "    \n",
    "    def insert_at_beg(self,num):\n",
    "        if self.head is None:\n",
    "            self.head = Node(num,None,self.head)\n",
    "        else:\n",
    "            node = Node(num,None,self.head)\n",
    "            self.head.prev= node\n",
    "            self.head = node\n",
    "        return\n",
    "    def insert_at_end(self,num):\n",
    "        if self.head is None:\n",
    "            print(\"Empty Doubly list\")\n",
    "            return\n",
    "        itr = self.head\n",
    "        while itr.next:\n",
    "            itr = itr.next\n",
    "        node = Node(num,itr,None)\n",
    "        itr.next = node\n",
    "        return\n",
    "    \n",
    "    def insert_arr(self,arr):\n",
    "        for i in arr:\n",
    "            if self.head is None:\n",
    "                self.insert_at_beg(i)\n",
    "            else:\n",
    "                self.insert_at_end(i)\n",
    "        return\n",
    "        \n",
    "    def print(self):\n",
    "        if self.head is None:\n",
    "            print(\"Entry doubly linked list\")\n",
    "            return\n",
    "        itr = self.head\n",
    "        while itr:\n",
    "            print(itr.data,end=\"-->\")\n",
    "            itr = itr.next\n",
    "        return\n",
    "    \n",
    "    def print_reverse(self):\n",
    "        if self.head is None:\n",
    "            print(\"Empty linked list\")\n",
    "            return\n",
    "        itr = self.head\n",
    "        while itr.next:\n",
    "            itr = itr.next\n",
    "        while itr:\n",
    "            print(itr.data,end=\"-->\")\n",
    "            itr = itr.prev\n",
    "        return\n",
    "dl = DoublyLinkedList()\n",
    "dl.insert_at_beg(4)\n",
    "dl.insert_at_beg(5)\n",
    "dl.insert_at_beg(67)\n",
    "dl.insert_at_beg(90)\n",
    "dl.insert_at_end(56)\n",
    "dl.insert_arr([900,897])\n",
    "dl.print()\n",
    "print(\"\\n\")\n",
    "dl.print_reverse()\n",
    "    "
   ]
  },
  {
   "cell_type": "markdown",
   "metadata": {},
   "source": [
    "# hash table "
   ]
  },
  {
   "cell_type": "code",
   "execution_count": 121,
   "metadata": {},
   "outputs": [],
   "source": [
    "from collections import deque\n",
    "\n",
    "class HashTable:\n",
    "    def __init__(self):\n",
    "        self.max = 10\n",
    "        self.arr = [[] for i in range(self.max)]\n",
    "        \n",
    "    def gethashind(self,num):\n",
    "        val = 0\n",
    "        for i in num:\n",
    "            val+=ord(i)\n",
    "        return val%self.max\n",
    "    \n",
    "    def __setitem__(self,key,val):\n",
    "        ind= self.gethashind(key)\n",
    "        print(\"ind :=>\", ind)\n",
    "        find = False\n",
    "        for i,j in enumerate(self.arr[ind]):\n",
    "            if j[0]==key:\n",
    "                self.arr[ind][i]=(key,val)\n",
    "                find = True\n",
    "                break\n",
    "        if not find:\n",
    "            self.arr[ind].append((key,val))\n",
    "        return    \n",
    "        \n",
    "    def __getitem__(self,key):\n",
    "        ind= self.gethashind(key)\n",
    "        if ind<=(len(self.arr)-1) and ind>0:\n",
    "            for i,j in enumerate(self.arr[ind]):\n",
    "                if j[0]==key:\n",
    "                    print(j[1])\n",
    "                    return\n",
    "            print(\"not found\")\n",
    "            return\n",
    "        else:\n",
    "            print(\"not found\")\n",
    "            return\n",
    "    def print_hashtable(self):\n",
    "        print(self.arr)\n",
    "        return\n",
    "    def __delitem__(self,item):\n",
    "        ind = self.gethashind(item)\n",
    "        print(ind,len(self.arr))\n",
    "        if ind<=(len(self.arr)-1) and ind>0:\n",
    "            for i,j in enumerate(self.arr[ind]):\n",
    "                if j[0]==item:\n",
    "                    print(\"found\")\n",
    "                    del self.arr[ind][i]\n",
    "                    return\n",
    "            print(\"not found\")\n",
    "            return\n",
    "        else:\n",
    "            print(\"not found\")\n",
    "            return\n",
    "\n"
   ]
  },
  {
   "cell_type": "code",
   "execution_count": 122,
   "metadata": {},
   "outputs": [
    {
     "name": "stdout",
     "output_type": "stream",
     "text": [
      "ind :=> 9\n",
      "ind :=> 0\n",
      "ind :=> 9\n",
      "[[('march 7', 8989)], [], [], [], [], [], [], [], [], [('m', 6777), ('march 17', 8989)]]\n",
      "not found\n",
      "9 10\n",
      "found\n",
      "[[('march 7', 8989)], [], [], [], [], [], [], [], [], [('march 17', 8989)]]\n"
     ]
    }
   ],
   "source": [
    "a = HashTable()\n",
    "a[\"m\"] = 6777\n",
    "a[\"march 7\"] = 8989\n",
    "a[\"march 17\"] = 8989\n",
    "a[\"march 78\"]\n",
    "del a['m']\n",
    "a.print_hashtable()"
   ]
  },
  {
   "cell_type": "markdown",
   "metadata": {},
   "source": [
    "# Stack"
   ]
  },
  {
   "cell_type": "markdown",
   "metadata": {},
   "source": [
    "works with \"last in First out\""
   ]
  },
  {
   "cell_type": "code",
   "execution_count": 8,
   "metadata": {},
   "outputs": [],
   "source": [
    "from collections import deque"
   ]
  },
  {
   "cell_type": "code",
   "execution_count": 10,
   "metadata": {},
   "outputs": [],
   "source": [
    "class stack:\n",
    "    def __init__(self):\n",
    "        self.container = deque()\n",
    "    \n",
    "    def push(self, item):\n",
    "        self.container.append(item)\n",
    "        return\n",
    "    def pop(self):\n",
    "        print(self.container[-1])\n",
    "        return self.container.pop()\n",
    "    def peep(self):\n",
    "        print(self.container[-1])\n",
    "        return\n",
    "    def printStack(self):\n",
    "        print(self.container)\n",
    "        return\n",
    "    def is_empty(self):\n",
    "        return len(self.container) == 0\n",
    "\n",
    "    def size(self):\n",
    "        return len(self.container)\n",
    "    \n",
    "def reverse_string(string):\n",
    "    stacko = stack()\n",
    "  \n",
    "    for i in string:\n",
    "        stacko.push(i)\n",
    "    stacko.printStack()\n",
    "    stur = \"\"\n",
    "    while stacko.size()!=0:\n",
    "        stur+= stacko.pop()\n",
    "    print(\"-----\")\n",
    "    print(stur)\n",
    "    return stur\n",
    "\n",
    "        "
   ]
  },
  {
   "cell_type": "code",
   "execution_count": 11,
   "metadata": {},
   "outputs": [],
   "source": [
    "# a = stack()\n",
    "# a.push(5)\n",
    "# a.push(65)\n",
    "# a.push(6)\n",
    "# a.push(605)\n",
    "# a.push(659)\n",
    "# a.peep()\n",
    "# a.printStack()\n",
    "# reverse_string(\"hi my name is indu chouhan\")"
   ]
  },
  {
   "cell_type": "code",
   "execution_count": 12,
   "metadata": {},
   "outputs": [],
   "source": [
    "def is_match(pitem,gitem):\n",
    "    dictofp = {\n",
    "        '{':'}',\n",
    "        '[':']',\n",
    "        '(':')'\n",
    "    }\n",
    "    \n",
    "    return dictofp[pitem] ==gitem\n",
    "def is_balanced(string):\n",
    "    s = stack()\n",
    "    for st in string:\n",
    "        if st in ['[','{','(']:\n",
    "            s.push(st)\n",
    "        s.printStack()\n",
    "       \n",
    "        if (st in ['}',']',')'] ) and ( s.size()==0):\n",
    "            return False\n",
    "        if (st in ['}',']',')'] ) and ( s.size()!=0):\n",
    "            ans=is_match(s.pop(),st)\n",
    "            if not ans:\n",
    "                return ans\n",
    "    return s.size()==0\n",
    "        "
   ]
  },
  {
   "cell_type": "code",
   "execution_count": 13,
   "metadata": {},
   "outputs": [
    {
     "name": "stdout",
     "output_type": "stream",
     "text": [
      "deque(['('])\n",
      "deque(['(', '('])\n"
     ]
    },
    {
     "data": {
      "text/plain": [
       "False"
      ]
     },
     "execution_count": 13,
     "metadata": {},
     "output_type": "execute_result"
    }
   ],
   "source": [
    "is_balanced(\"((\")"
   ]
  },
  {
   "cell_type": "markdown",
   "metadata": {},
   "source": [
    "bigOCheetsheet.com"
   ]
  },
  {
   "cell_type": "markdown",
   "metadata": {},
   "source": [
    "# Queue DS"
   ]
  },
  {
   "cell_type": "code",
   "execution_count": 41,
   "metadata": {},
   "outputs": [],
   "source": [
    "class queue:\n",
    "    def __init__(self):\n",
    "        self.container = deque()\n",
    "    \n",
    "    def push(self, item):\n",
    "        self.container.appendleft(item)\n",
    "        return\n",
    "    def pushmultiple(self,item):\n",
    "        self.container.extend(item)\n",
    "        return\n",
    "    \n",
    "    def peep(self):\n",
    "        print(self.container[-1])\n",
    "        return\n",
    "    def printStack(self):\n",
    "        print(self.container)\n",
    "        return\n",
    "    def is_empty(self):\n",
    "        return len(self.container) == 0\n",
    "    \n",
    "    def countelemene(self,item):\n",
    "        return self.container.count(item)\n",
    "    def size(self):\n",
    "        return len(self.container)\n",
    "    def pop(self):\n",
    "        if self.container.size()==0:\n",
    "            print(\"Empty Queue\")\n",
    "            return \"Empty Queue\"\n",
    "        print(self.container[-1])\n",
    "        return self.container.pop()"
   ]
  },
  {
   "cell_type": "code",
   "execution_count": 19,
   "metadata": {},
   "outputs": [],
   "source": [
    "# queue = queue()\n",
    "# queue.push(7)"
   ]
  },
  {
   "cell_type": "code",
   "execution_count": 20,
   "metadata": {},
   "outputs": [],
   "source": [
    "# queue.pushmultiple(\"fdggdd\")"
   ]
  },
  {
   "cell_type": "code",
   "execution_count": 21,
   "metadata": {},
   "outputs": [],
   "source": [
    "# queue.printStack()"
   ]
  },
  {
   "cell_type": "markdown",
   "metadata": {},
   "source": [
    "# Multithreading in Python "
   ]
  },
  {
   "cell_type": "markdown",
   "metadata": {},
   "source": [
    "# Without threading "
   ]
  },
  {
   "cell_type": "code",
   "execution_count": 70,
   "metadata": {},
   "outputs": [
    {
     "name": "stdout",
     "output_type": "stream",
     "text": [
      "claculating square:\n",
      "square: 16\n",
      "square: 36\n",
      "square: 9\n",
      "square: 4\n",
      "square: 1936\n",
      "square: 25\n",
      "calculating cube\n",
      "square: 64\n",
      "square: 216\n",
      "square: 27\n",
      "square: 8\n",
      "square: 85184\n",
      "square: 125\n",
      "total time take by program is : 4.8427112102508545\n"
     ]
    }
   ],
   "source": [
    "import time \n",
    "\n",
    "def cal_square(a):\n",
    "    print(\"claculating square:\")\n",
    "    for i in a:\n",
    "        time.sleep(0.4)\n",
    "        print('square:',i*i)\n",
    "    return\n",
    "\n",
    "def cal_cube(a):\n",
    "    print('calculating cube')\n",
    "    for i in a:\n",
    "        time.sleep(0.4)\n",
    "        print('square:',i*i*i)\n",
    "    return\n",
    "\n",
    "b= [4,6,3,2,44,5]\n",
    "time1= time.time()\n",
    "cal_square(b)\n",
    "cal_cube(b)\n",
    "time2= time.time()\n",
    "print(\"total time take by program is :\", time2-time1)"
   ]
  },
  {
   "cell_type": "markdown",
   "metadata": {},
   "source": [
    "# With Threading (It only uses the time when CPU is not doing anything or waiting for something) "
   ]
  },
  {
   "cell_type": "code",
   "execution_count": 69,
   "metadata": {},
   "outputs": [
    {
     "name": "stdout",
     "output_type": "stream",
     "text": [
      "claculating square:calculating cube\n",
      "\n",
      "square:square: 16\n",
      " 64\n",
      "square:square: 36\n",
      " 216\n",
      "square:square: 9\n",
      " 27\n",
      "square:square: 8\n",
      " 4\n",
      "square:square: 85184\n",
      " 1936\n",
      "square: 125\n",
      "square: 25\n",
      "total time take by program is : 2.4505295753479004\n"
     ]
    }
   ],
   "source": [
    "import time \n",
    "import threading\n",
    "\n",
    "def cal_square(a):\n",
    "    print(\"claculating square:\")\n",
    "    for i in a:\n",
    "        time.sleep(0.4)\n",
    "        print('square:',i*i)\n",
    "    return\n",
    "\n",
    "def cal_cube(a):\n",
    "    print('calculating cube')\n",
    "    for i in a:\n",
    "        time.sleep(0.4)\n",
    "        print('square:',i*i*i)\n",
    "    return\n",
    "\n",
    "b= [4,6,3,2,44,5]\n",
    "time1= time.time()\n",
    "t1= threading.Thread(target=cal_square, args=(b,))\n",
    "t2= threading.Thread(target=cal_cube, args=(b,))\n",
    "t1.start()\n",
    "t2.start()\n",
    "\n",
    "t1.join()\n",
    "t2.join()\n",
    "time2= time.time()\n",
    "print(\"total time take by program is :\", time2-time1)\n",
    "    "
   ]
  },
  {
   "cell_type": "markdown",
   "metadata": {},
   "source": [
    "# multiprocessing in python "
   ]
  },
  {
   "cell_type": "markdown",
   "metadata": {},
   "source": [
    "In multiprocessing , each process has their own memory space (virtual memory ). so that the variables are shared among the process. if you want to share the variables among the process , you need to use interprocess communication techniques. \n",
    "\n",
    "same program will not workin jupyter"
   ]
  },
  {
   "cell_type": "code",
   "execution_count": 1,
   "metadata": {},
   "outputs": [
    {
     "name": "stdout",
     "output_type": "stream",
     "text": [
      "total time take by program is : 0.23200201988220215\n"
     ]
    }
   ],
   "source": [
    "import time \n",
    "import multiprocessing\n",
    "\n",
    "def cal_square(a):\n",
    "    print(\"claculating square:\")\n",
    "    for i in a:\n",
    "        time.sleep(3)\n",
    "        print('square:',i*i)\n",
    "    return\n",
    "\n",
    "def cal_cube(a):\n",
    "    print('calculating cube')\n",
    "    for i in a:\n",
    "        time.sleep(3)\n",
    "        print('square:',i*i*i)\n",
    "    return\n",
    "\n",
    "if __name__ =='__main__':\n",
    "\n",
    "    b= [4,6,3,2,44,5]\n",
    "    time1= time.time()\n",
    "    t1= multiprocessing.Process(target=cal_square, args=(b,))\n",
    "    t2= multiprocessing.Process(target=cal_cube, args=(b,))\n",
    "    t1.start()\n",
    "    t2.start()\n",
    "\n",
    "    t1.join()\n",
    "    t2.join()\n",
    "    time2= time.time()\n",
    "    print(\"total time take by program is :\", time2-time1)"
   ]
  },
  {
   "cell_type": "markdown",
   "metadata": {},
   "source": [
    "# Producer and consumer problem"
   ]
  },
  {
   "cell_type": "code",
   "execution_count": 5,
   "metadata": {},
   "outputs": [],
   "source": [
    "from collections import deque\n",
    "class queue:\n",
    "    def __init__(self):\n",
    "        self.container = deque()\n",
    "    \n",
    "    def push(self, item):\n",
    "        self.container.appendleft(item)\n",
    "        return\n",
    "    def pushmultiple(self,item):\n",
    "        self.container.extend(item)\n",
    "        return\n",
    "    \n",
    "    def peep(self):\n",
    "        print(self.container[-1])\n",
    "        return\n",
    "    def printStack(self):\n",
    "        print(self.container)\n",
    "        return\n",
    "    def is_empty(self):\n",
    "        return len(self.container) == 0\n",
    "    \n",
    "    def countelemene(self,item):\n",
    "        return self.container.count(item)\n",
    "    def size(self):\n",
    "        return len(self.container)\n",
    "    def pop(self):\n",
    "        if self.size()==0:\n",
    "            print(\"Empty Queue\")\n",
    "            return \"Empty Queue\"\n",
    "        print(self.container[-1])\n",
    "        return self.container.pop()"
   ]
  },
  {
   "cell_type": "code",
   "execution_count": null,
   "metadata": {},
   "outputs": [
    {
     "name": "stdout",
     "output_type": "stream",
     "text": [
      "Empty Queue\n",
      "popped from queue: Empty Queue\n",
      "pushed to queue: pizza\n",
      "pushed to queue: samosa\n",
      "pushed to queue: pasta\n",
      "pizza\n",
      "popped from queue: pizza\n",
      "pushed to queue: biryani\n",
      "pushed to queue: burger\n",
      "samosa\n",
      "popped from queue: samosa\n",
      "pasta\n",
      "popped from queue: pasta\n",
      "biryani\n",
      "popped from queue: biryani\n",
      "burger\n",
      "popped from queue: burger\n"
     ]
    }
   ],
   "source": [
    "import threading\n",
    "import time\n",
    "def add_order(arr,queue):\n",
    "    for i in arr:\n",
    "        queue.push(i)\n",
    "        time.sleep(0.5)\n",
    "        print(\"pushed to queue:\",i)\n",
    "    return\n",
    "def pass_order( queue):\n",
    "    \n",
    "    while True:\n",
    "        i = queue.pop()\n",
    "        print(\"popped from queue:\",i)\n",
    "        time.sleep(2)\n",
    "    return \n",
    "\n",
    "q = queue()\n",
    "orders = ['pizza','samosa','pasta','biryani','burger']\n",
    "t1 = threading.Thread(target=add_order, args=(orders,q))\n",
    "t2 = threading.Thread(target=pass_order, args=(q,))\n",
    "\n",
    "t2.start()\n",
    "t1.start()\n",
    "\n",
    "t2.join()\n",
    "t1.join()"
   ]
  },
  {
   "cell_type": "markdown",
   "metadata": {},
   "source": [
    "# Tree Data Structure"
   ]
  },
  {
   "cell_type": "code",
   "execution_count": 57,
   "metadata": {},
   "outputs": [],
   "source": [
    "class TreeNode:\n",
    "    def __init__(self,data):\n",
    "        self.data = data\n",
    "        self.children = []\n",
    "        self.parent = None\n",
    "    def add_child(self, child):\n",
    "        child.parent = self\n",
    "        self.children.append(child)\n",
    "        return\n",
    "    def count_level(self):\n",
    "        count= 0\n",
    "        p = self.parent\n",
    "        while p:\n",
    "            count+=1\n",
    "            p = p.parent   \n",
    "        return count\n",
    "    \n",
    "#     def print_tree(self):\n",
    "        \n",
    "#         print(\"  \"*(self.count_level()+4)+\"|\"+\"--\"*(self.count_level())+self.data if self.parent else self.data)\n",
    "#         if self.children:\n",
    "#             for i in self.children:\n",
    "#                 i.print_tree()\n",
    "#         return\n",
    "    def print_tree(self,ind,level):\n",
    "        if self.count_level()<=level:\n",
    "            if ind <2:\n",
    "                print(\"  \"*(self.count_level()+4)+\"|\"+\"--\"*(self.count_level())+self.data[ind] if self.parent else self.data[ind])\n",
    "            else:\n",
    "                print(\"  \"*(self.count_level()+4)+\"|\"+\"--\"*(self.count_level())+self.data[0]+'('+ self.data[1]+')'if self.parent else self.data[0]+'('+ self.data[1]+')')\n",
    "            if self.children:\n",
    "                for i in self.children:\n",
    "                    i.print_tree(ind,level)\n",
    "            return\n",
    "                \n",
    "        else:\n",
    "            pass\n",
    "\n",
    "        "
   ]
  },
  {
   "cell_type": "code",
   "execution_count": 58,
   "metadata": {},
   "outputs": [],
   "source": [
    "# electronic = TreeNode('electronic')\n",
    "# mobile = TreeNode('mobile')\n",
    "# tv = TreeNode('TV')\n",
    "# iphone = TreeNode('iphone')\n",
    "# rm = TreeNode('realme')\n",
    "# mobile.add_child(iphone)\n",
    "# mobile.add_child(rm)\n",
    "# lg = TreeNode('Lg')\n",
    "# dell= TreeNode('dell')\n",
    "# tv.add_child(lg)\n",
    "# tv.add_child(dell)\n",
    "# electronic.add_child(mobile)\n",
    "# electronic.add_child(tv)\n",
    "# electronic.print_tree()"
   ]
  },
  {
   "cell_type": "code",
   "execution_count": 59,
   "metadata": {},
   "outputs": [],
   "source": [
    "# lg.count_level()"
   ]
  },
  {
   "cell_type": "code",
   "execution_count": 60,
   "metadata": {},
   "outputs": [],
   "source": [
    "def build_management_tree():\n",
    "    CEO = TreeNode(('Nilupul', 'CEO'))\n",
    "    CTO = TreeNode(('Chinmay','CTO'))\n",
    "    IH = TreeNode(('Vishwa','Infrastructure Head'))\n",
    "    CM = TreeNode(('dhaval','cloud Manager'))\n",
    "    AM = TreeNode(('Abhijit',\"App Manager\"))\n",
    "    AH = TreeNode(('Amir', 'Application Head'))\n",
    "    HH = TreeNode(('Gels', 'HR Head'))\n",
    "    RM = TreeNode(('Peter','Recruitement Head'))\n",
    "    PM = TreeNode(('Waqus','Policy Head'))\n",
    "    \n",
    "    CEO.add_child(CTO)\n",
    "    CEO.add_child(HH)\n",
    "    \n",
    "    CTO.add_child(IH)\n",
    "    CTO.add_child(AH)\n",
    "    \n",
    "    HH.add_child(RM)\n",
    "    HH.add_child(PM)\n",
    "    \n",
    "    IH.add_child(CM)\n",
    "    IH.add_child(AM)\n",
    "    \n",
    "    return CEO\n"
   ]
  },
  {
   "cell_type": "code",
   "execution_count": 61,
   "metadata": {},
   "outputs": [
    {
     "name": "stdout",
     "output_type": "stream",
     "text": [
      "With Name:->\n",
      "Nilupul\n",
      "          |--Chinmay\n",
      "            |----Vishwa\n",
      "            |----Amir\n",
      "          |--Gels\n",
      "            |----Peter\n",
      "            |----Waqus\n",
      "Designation:->\n",
      "CEO\n",
      "          |--CTO\n",
      "            |----Infrastructure Head\n",
      "              |------cloud Manager\n",
      "              |------App Manager\n",
      "            |----Application Head\n",
      "          |--HR Head\n",
      "            |----Recruitement Head\n",
      "            |----Policy Head\n",
      "Both:->\n",
      "Nilupul(CEO)\n",
      "          |--Chinmay(CTO)\n",
      "          |--Gels(HR Head)\n"
     ]
    }
   ],
   "source": [
    "if __name__ == '__main__':\n",
    "    root_node = build_management_tree()\n",
    "    print(\"With Name:->\")\n",
    "    root_node.print_tree(0,2) # prints only name hierarchy\n",
    "    print(\"Designation:->\")\n",
    "    root_node.print_tree(1,3) # prints only designation hierarchy\n",
    "    print('Both:->')\n",
    "    root_node.print_tree(2,1) # prints both (name and designation) hierarchy"
   ]
  },
  {
   "cell_type": "markdown",
   "metadata": {},
   "source": [
    "# Binary Tree "
   ]
  },
  {
   "cell_type": "code",
   "execution_count": 2,
   "metadata": {},
   "outputs": [],
   "source": [
    "import pdb \n",
    "class BinaryTree:\n",
    "    def __init__(self, data):\n",
    "        self.data = data\n",
    "        self.left = None\n",
    "        self.right = None \n",
    "    \n",
    "    def add_child(self,data):\n",
    "        if self.data== data:\n",
    "            return\n",
    "        if self.data>data: \n",
    "            if self.left:\n",
    "                 self.left.add_child(data)\n",
    "            else:\n",
    "                self.left = BinaryTree(data)\n",
    "        else:\n",
    "            if self.right:\n",
    "                self.right.add_child(data)\n",
    "            else:\n",
    "                self.right = BinaryTree(data)\n",
    "        return\n",
    "    def in_order_traversal(self):\n",
    "        di =[]\n",
    "        \n",
    "        # add left subtree first\n",
    "        if self.left:\n",
    "            di+=self.left.in_order_traversal()\n",
    "        # add root node\n",
    "        di.append(self.data)\n",
    "        # add right subtree\n",
    "        if self.right:\n",
    "            di+=self.right.in_order_traversal()\n",
    "        return di\n",
    "    def pre_order_traversal(self):\n",
    "        di = []\n",
    "        di.append(self.data)\n",
    "        if self.left:\n",
    "            di+=self.left.pre_order_traversal()\n",
    "        if self.right:\n",
    "            di+= self.right.pre_order_traversal()\n",
    "        \n",
    "        return di\n",
    "    def post_order_traversal(self):\n",
    "        di = []\n",
    "        \n",
    "        if self.left:\n",
    "            di+=self.left.pre_order_traversal()\n",
    "        if self.right:\n",
    "            di+= self.right.pre_order_traversal()\n",
    "        di.append(self.data)\n",
    "        return di\n",
    "    \n",
    "    def find_max(self):\n",
    "        maxitem = self.data\n",
    "        if self.right:\n",
    "            maxitem = self.right.find_max()\n",
    "        return maxitem\n",
    "    def find_min(self):\n",
    "        minitem = self.data\n",
    "        if self.left:\n",
    "            minitem = self.left.find_min()\n",
    "        return minitem\n",
    "    \n",
    "    \n",
    "    def del_node(self,data):\n",
    "        if self.data >data:\n",
    "            if self.left:\n",
    "                self.left = self.left.del_node(data)\n",
    "        elif self.data<data:\n",
    "            self.right = self.right.del_node(data)\n",
    "        else:\n",
    "            if self.left is None and self.right is None:\n",
    "                return None\n",
    "            if self.left is None:\n",
    "                return self.right\n",
    "            if self.right is None:\n",
    "                return self.left\n",
    "            minVal = self.right.find_min()\n",
    "            self.data = minVal\n",
    "            self.right=self.right.del_node(minVal)\n",
    "        return self\n",
    "    "
   ]
  },
  {
   "cell_type": "code",
   "execution_count": 3,
   "metadata": {},
   "outputs": [
    {
     "name": "stdout",
     "output_type": "stream",
     "text": [
      "[1, 2, 3, 4, 5, 6, 7, 8, 9, 10, 23, 56, 90]\n",
      "90\n",
      "1\n",
      "[7, 1, 3, 2, 5, 4, 6, 56, 9, 8, 23, 10, 90]\n",
      "[1, 3, 2, 5, 4, 6, 56, 9, 8, 23, 10, 90, 7]\n"
     ]
    }
   ],
   "source": [
    "\n",
    "bt = BinaryTree(7)\n",
    "a = [7,56,1,3,9,23,90,5,8,6,10,2,4]\n",
    "for i in a:\n",
    "    bt.add_child(i)\n",
    "print(bt.in_order_traversal())\n",
    "print(bt.find_max())\n",
    "print(bt.find_min())\n",
    "print(bt.pre_order_traversal())\n",
    "print(bt.post_order_traversal())"
   ]
  },
  {
   "cell_type": "code",
   "execution_count": 103,
   "metadata": {},
   "outputs": [
    {
     "name": "stdout",
     "output_type": "stream",
     "text": [
      "[1, 2, 3, 4, 5, 6, 7, 8, 9, 23, 56, 90]\n"
     ]
    }
   ],
   "source": [
    "bt.del_node(10)\n",
    "print(bt.in_order_traversal())"
   ]
  },
  {
   "cell_type": "code",
   "execution_count": 104,
   "metadata": {},
   "outputs": [
    {
     "name": "stdout",
     "output_type": "stream",
     "text": [
      "[7, 1, 3, 2, 5, 4, 6, 56, 9, 8, 23, 90]\n",
      "[1, 3, 2, 5, 4, 6, 56, 9, 8, 23, 90, 7]\n"
     ]
    }
   ],
   "source": [
    "print(bt.pre_order_traversal())\n",
    "print(bt.post_order_traversal())"
   ]
  },
  {
   "cell_type": "code",
   "execution_count": null,
   "metadata": {},
   "outputs": [],
   "source": []
  },
  {
   "cell_type": "code",
   "execution_count": null,
   "metadata": {},
   "outputs": [],
   "source": []
  },
  {
   "cell_type": "markdown",
   "metadata": {},
   "source": [
    "# Graph DS"
   ]
  },
  {
   "cell_type": "code",
   "execution_count": 34,
   "metadata": {},
   "outputs": [],
   "source": [
    "class graph:\n",
    "    def __init__(self,edges):\n",
    "        self.edges = edges\n",
    "        self.graph_dict ={}\n",
    "        for start,end in self.edges:\n",
    "            if start in self.graph_dict:\n",
    "                self.graph_dict[start].append(end)\n",
    "            else:\n",
    "                self.graph_dict[start]= [end]\n",
    "        print(self.graph_dict)\n",
    "        \n",
    "    def find_all_path(self,start,end,path=[]):\n",
    "        path = path+[start]\n",
    "        \n",
    "        if start == end:\n",
    "            return [path]\n",
    "        if start not in self.graph_dict:\n",
    "            return []\n",
    "        \n",
    "        paths = []\n",
    "        for i in self.graph_dict[start]:\n",
    "            # if i not in path:\n",
    "            newpaths = self.find_all_path(i,end,path)\n",
    "            for j in newpaths:\n",
    "                paths.append(j)\n",
    "        \n",
    "        return paths\n",
    "                \n",
    "            \n",
    "        "
   ]
  },
  {
   "cell_type": "code",
   "execution_count": 35,
   "metadata": {},
   "outputs": [
    {
     "name": "stdout",
     "output_type": "stream",
     "text": [
      "{'new york': ['tornado'], 'mumbai': ['paris', 'dubai'], 'dubai': ['new york'], 'paris': ['new york', 'dubai']}\n"
     ]
    }
   ],
   "source": [
    "edges = {('mumbai','paris'),('mumbai','dubai'),('paris','dubai'),('paris','new york'),('dubai','new york'),('new york', 'tornado')}\n",
    "graph = graph(edges)"
   ]
  },
  {
   "cell_type": "code",
   "execution_count": 36,
   "metadata": {},
   "outputs": [
    {
     "data": {
      "text/plain": [
       "[['mumbai', 'paris', 'new york'],\n",
       " ['mumbai', 'paris', 'dubai', 'new york'],\n",
       " ['mumbai', 'dubai', 'new york']]"
      ]
     },
     "execution_count": 36,
     "metadata": {},
     "output_type": "execute_result"
    }
   ],
   "source": [
    "graph.find_all_path('mumbai','new york')"
   ]
  },
  {
   "cell_type": "code",
   "execution_count": null,
   "metadata": {},
   "outputs": [],
   "source": []
  },
  {
   "cell_type": "code",
   "execution_count": null,
   "metadata": {},
   "outputs": [],
   "source": []
  },
  {
   "cell_type": "markdown",
   "metadata": {},
   "source": [
    "# Bubble Sort"
   ]
  },
  {
   "cell_type": "code",
   "execution_count": 57,
   "metadata": {},
   "outputs": [
    {
     "name": "stdout",
     "output_type": "stream",
     "text": [
      "[2, 7, 1, 44, 5, 89, 10, 9, 87, 90]\n",
      "[2, 1, 7, 5, 44, 10, 9, 87, 89, 90]\n",
      "[1, 2, 5, 7, 10, 9, 44, 87, 89, 90]\n",
      "[1, 2, 5, 7, 9, 10, 44, 87, 89, 90]\n",
      "[1, 2, 5, 7, 9, 10, 44, 87, 89, 90]\n",
      "[1, 2, 5, 7, 9, 10, 44, 87, 89, 90]\n"
     ]
    }
   ],
   "source": [
    "il = [7,2,89,1,44,5,90,10,9,87]\n",
    "n = len(il)\n",
    "\n",
    "for i in range(n-1):\n",
    "    flip = False\n",
    "    for k  in range(n-i-1):\n",
    "        if il[k]>il[k+1]:\n",
    "            il[k], il[k+1]=il[k+1],il[k]\n",
    "            flip= True\n",
    "    print(il)\n",
    "    if not flip:\n",
    "        break\n",
    "    \n",
    "print(il)\n",
    "            "
   ]
  },
  {
   "cell_type": "markdown",
   "metadata": {},
   "source": [
    "# Quick Sort"
   ]
  },
  {
   "cell_type": "code",
   "execution_count": 2,
   "metadata": {},
   "outputs": [
    {
     "name": "stdout",
     "output_type": "stream",
     "text": [
      "[11, 9, 7, 2, 29, 15, 28]\n"
     ]
    }
   ],
   "source": [
    "def swap(s,e,arr):\n",
    "    if s!=e: \n",
    "        temp = arr[s]\n",
    "        arr[s] = arr[e]\n",
    "        arr[e] = temp\n",
    "    return arr\n",
    "    \n",
    "def partition(start,end,arr):\n",
    "    pivot = arr[start]\n",
    "    while start<end:\n",
    "        while arr[start]<=pivot and start<len(arr)-1:\n",
    "            start+=1\n",
    "        while arr[end]>pivot:\n",
    "            end-=1\n",
    "        if start<end:\n",
    "            arr = swap(start,end,arr)\n",
    "#             partition(start,end,arr)\n",
    "#             return end\n",
    "    arr = swap(start,end,arr)\n",
    "    print(arr)\n",
    "    return end\n",
    "a = [11,9,29,7,2,15,28]\n",
    "end = partition(0,len(a)-1,a) \n",
    "# lp = partition(0,end-1,a)\n",
    "# rp = partition(end+1,len(a)-1,a)"
   ]
  },
  {
   "cell_type": "markdown",
   "metadata": {},
   "source": [
    "# Final Right code for quick sort Hoare partition scheme\n",
    "(Write code for Lomuto partition scheme)"
   ]
  },
  {
   "cell_type": "code",
   "execution_count": 3,
   "metadata": {},
   "outputs": [
    {
     "name": "stdout",
     "output_type": "stream",
     "text": [
      "[2, 7, 9, 11, 15, 28, 29]\n",
      "sorted array: [2, 7, 9, 11, 15, 28, 29]\n",
      "sorted array: [3, 7, 9, 11]\n",
      "sorted array: [10, 21, 22, 25]\n",
      "sorted array: [15, 28, 29]\n",
      "sorted array: []\n",
      "sorted array: [6]\n"
     ]
    }
   ],
   "source": [
    "def swap(s,e,arr):\n",
    "    if s!=e:\n",
    "        temp = arr[s]\n",
    "        arr[s] = arr[e]\n",
    "        arr[e] = temp\n",
    "    \n",
    "def partition(start,end,arr):\n",
    "    pivot_index = start\n",
    "    pivot = arr[pivot_index]\n",
    "    # start = pivot_index+1\n",
    "    # end = len(arr)\n",
    "    while start<end:\n",
    "        while arr[start]<=pivot and start<len(arr)-1:\n",
    "            start+=1\n",
    "        while arr[end]>pivot and end>=start:\n",
    "            end-=1\n",
    "        if end>start:\n",
    "            swap(start,end,arr)\n",
    "    swap(pivot_index,end,arr)\n",
    "    return end\n",
    "\n",
    "def quicksort(start,end,arr):\n",
    "    if start<end:\n",
    "        pi = partition(start,end,arr)\n",
    "        quicksort(start,pi-1,arr)\n",
    "        quicksort(pi+1,end,arr) \n",
    "if __name__=='__main__':\n",
    "    a = [11,9,29,7,2,15,28]\n",
    "    quicksort(0,len(a)-1,a)\n",
    "    print(a)\n",
    "    tests = [\n",
    "        [11,9,29,7,2,15,28],\n",
    "        [3, 7, 9, 11],\n",
    "        [25, 22, 21, 10],\n",
    "        [29, 15, 28],\n",
    "        [],\n",
    "        [6]\n",
    "    ]\n",
    "\n",
    "    for elements in tests:\n",
    "        quicksort( 0, len(elements)-1,elements)\n",
    "        print(f'sorted array: {elements}')"
   ]
  },
  {
   "cell_type": "markdown",
   "metadata": {},
   "source": [
    "# insertion sort"
   ]
  },
  {
   "cell_type": "code",
   "execution_count": 6,
   "metadata": {},
   "outputs": [
    {
     "name": "stdout",
     "output_type": "stream",
     "text": [
      "after iteration: [21, 38, 29, 17, 4, 25, 11, 32, 9]\n",
      "after iteration: [21, 38, 29, 17, 4, 25, 11, 32, 9]\n",
      "after iteration: [21, 29, 38, 17, 4, 25, 11, 32, 9]\n",
      "after iteration: [17, 21, 29, 38, 4, 25, 11, 32, 9]\n",
      "after iteration: [4, 17, 21, 29, 38, 25, 11, 32, 9]\n",
      "after iteration: [4, 17, 21, 25, 29, 38, 11, 32, 9]\n",
      "after iteration: [4, 11, 17, 21, 25, 29, 38, 32, 9]\n",
      "after iteration: [4, 11, 17, 21, 25, 29, 32, 38, 9]\n",
      "after iteration: [4, 9, 11, 17, 21, 25, 29, 32, 38]\n",
      "[4, 9, 11, 17, 21, 25, 29, 32, 38]\n"
     ]
    }
   ],
   "source": [
    "a = [21,38,29,17,4,25,11,32,9]\n",
    "n = len(a)\n",
    "for i in range(n):\n",
    "    for j in range(n-1-(n-i-1)):\n",
    "        if a[j]> a[i]:\n",
    "            a[j] , a[i] = a[i],a[j]\n",
    "        else:\n",
    "            pass\n",
    "    print(\"after iteration:\",a)\n",
    "print(a)"
   ]
  },
  {
   "cell_type": "code",
   "execution_count": 7,
   "metadata": {},
   "outputs": [
    {
     "name": "stdout",
     "output_type": "stream",
     "text": [
      "[4, 9, 11, 17, 21, 25, 29, 32, 38]\n"
     ]
    }
   ],
   "source": [
    "a = [21,38,29,17,4,25,11,32,9]\n",
    "n = len(a)\n",
    "for i in range(1,n):\n",
    "    anchor = a[i]\n",
    "    j = i-1\n",
    "    while j>=0 and a[j]>anchor:\n",
    "        a[j+1] = a[j]\n",
    "        j-=1\n",
    "    a[j+1] = anchor\n",
    "        \n",
    "print(a)"
   ]
  },
  {
   "cell_type": "markdown",
   "metadata": {},
   "source": [
    "insertion sort is not best for last arrays , use quick sort ,heap sort for that\n",
    "Order of complexity : (n2) and O(n)"
   ]
  },
  {
   "cell_type": "markdown",
   "metadata": {},
   "source": [
    "# Merge sort"
   ]
  },
  {
   "cell_type": "code",
   "execution_count": 1,
   "metadata": {},
   "outputs": [
    {
     "name": "stdout",
     "output_type": "stream",
     "text": [
      "[1, 2, 2, 4, 10, 12, 44, 55, 55, 67, 78, 899]\n"
     ]
    }
   ],
   "source": [
    "def merge_sort(arr):\n",
    "    if len(arr)<=1:\n",
    "        return arr\n",
    "    mid = len(arr)//2\n",
    "    ls = merge_sort(arr[:mid])\n",
    "    rs = merge_sort(arr[mid:])\n",
    "    return sort_two_arrays(ls,rs)\n",
    "\n",
    "def sort_two_arrays(a,b):\n",
    "    l1= len(a)\n",
    "    l2 = len(b)\n",
    "    i= j = 0\n",
    "    sorted_array = []\n",
    "    while i <l1 and j<l2:\n",
    "        if a[i]<b[j]:\n",
    "            sorted_array.append(a[i])\n",
    "            i+=1\n",
    "        else:\n",
    "            sorted_array.append(b[j])\n",
    "            j+=1\n",
    "    while i < l1:\n",
    "         sorted_array.append(a[i])\n",
    "         i+=1\n",
    "    while j< l2:\n",
    "        sorted_array.append(b[j])\n",
    "        j+=1\n",
    "    return sorted_array\n",
    "\n",
    "if __name__ =='__main__':\n",
    "    a = [4,78,12,899,55,2,44,10,67,55,2,1]\n",
    "    print(merge_sort(a))"
   ]
  },
  {
   "cell_type": "code",
   "execution_count": null,
   "metadata": {},
   "outputs": [],
   "source": []
  }
 ],
 "metadata": {
  "kernelspec": {
   "display_name": "Python 3",
   "language": "python",
   "name": "python3"
  },
  "language_info": {
   "codemirror_mode": {
    "name": "ipython",
    "version": 3
   },
   "file_extension": ".py",
   "mimetype": "text/x-python",
   "name": "python",
   "nbconvert_exporter": "python",
   "pygments_lexer": "ipython3",
   "version": "3.7.6"
  }
 },
 "nbformat": 4,
 "nbformat_minor": 4
}
